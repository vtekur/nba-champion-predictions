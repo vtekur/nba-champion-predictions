{
 "cells": [
  {
   "cell_type": "code",
   "execution_count": 1,
   "metadata": {},
   "outputs": [],
   "source": [
    "from bs4 import BeautifulSoup\n",
    "import requests\n",
    "from urllib.parse import urljoin\n",
    "import re\n",
    "import numpy as np\n",
    "import pandas as pd\n",
    "import json"
   ]
  },
  {
   "cell_type": "markdown",
   "metadata": {},
   "source": [
    "## Dataset Generation"
   ]
  },
  {
   "cell_type": "code",
   "execution_count": 70,
   "metadata": {},
   "outputs": [],
   "source": [
    "nba_champion_url = 'https://www.basketball-reference.com/playoffs/'\n",
    "nba_team_stats_url = 'https://www.basketball-reference.com/play-index/tsl_finder.cgi?request=1&match=single&type=advanced&year_min=1980&year_max=&lg_id=NBA&franch_id=&c1stat=&c1comp=&c1val=&c2stat=&c2comp=&c2val=&c3stat=&c3comp=&c3val=&c4stat=&c4comp=&c4val=&order_by=wins&order_by_asc=&offset=0'\n",
    "base_url = requests.get(nba_team_stats_url).url\n",
    "def get_soup_from_url(url):\n",
    "    return BeautifulSoup(requests.get(url).text, 'html.parser')\n",
    "def create_champion_dict(soup): \n",
    "    champions = {}\n",
    "    for row in soup.find_all('tr'):\n",
    "        if row.find('th') and row.find_all('th')[0].get('data-stat') == 'year_id' and row.find('td') and row.find('a'): \n",
    "            year = int(row.find('a').text)\n",
    "            if year < 1980: \n",
    "                break\n",
    "            year_str = f'{year - 1}-{year % 100}'\n",
    "            champ = [stat.text for stat in row.find_all('td') if stat.get('data-stat') == 'champion'][0]\n",
    "            champions[year_str] = champ\n",
    "    return champions\n",
    "def create_team_dataset(soup, champions):\n",
    "    searching = True\n",
    "    rows_list = []\n",
    "    while searching: \n",
    "        for row in soup.find_all('tr'): \n",
    "            if row.find_all('th')[0].get('data-stat') == 'ranker' and row.find('td') and row.find('a'): \n",
    "                current_row = {}\n",
    "                current_row['Team'] = row.find('a').get('title')\n",
    "                for stat in row.find_all('td'): \n",
    "                    if stat.get('data-stat') == 'season':\n",
    "                        season = stat.text\n",
    "                        current_row['Champion'] = current_row['Team'] == champions.get(season)\n",
    "                        current_row['Team'] += ' ' + season\n",
    "                    elif stat.get('data-stat') == 'win_loss_pct':\n",
    "                        current_row['win_loss_pct'] = float(stat.text)\n",
    "                    elif stat.get('data-stat') == 'efg_pct':\n",
    "                        current_row['efg_pct'] = float(stat.text)\n",
    "                    elif stat.get('data-stat') == 'off_rtg':\n",
    "                        current_row['off_rtg'] = float(stat.text)  \n",
    "                    elif stat.get('data-stat') == 'def_rtg':\n",
    "                        current_row['def_rtg'] = float(stat.text)\n",
    "                rows_list.append(current_row)\n",
    "        searching = False\n",
    "        for link in soup.find_all('a'): \n",
    "            if link.text == 'Next page': \n",
    "                soup = get_soup_from_url(urljoin(base_url, link.get('href')))\n",
    "                searching = True\n",
    "    dataset = pd.DataFrame(rows_list)\n",
    "    dataset.set_index('Team')\n",
    "    return dataset"
   ]
  },
  {
   "cell_type": "code",
   "execution_count": 71,
   "metadata": {},
   "outputs": [],
   "source": [
    "champions = create_champion_dict(get_soup_from_url(nba_champion_url))\n",
    "dataset = create_team_dataset(get_soup_from_url(nba_team_stats_url), champions)"
   ]
  },
  {
   "cell_type": "code",
   "execution_count": 72,
   "metadata": {},
   "outputs": [],
   "source": [
    "dataset.to_csv('nba_team_data.csv')"
   ]
  },
  {
   "cell_type": "code",
   "execution_count": null,
   "metadata": {},
   "outputs": [],
   "source": []
  }
 ],
 "metadata": {
  "kernelspec": {
   "display_name": "nba-data-env",
   "language": "python",
   "name": "nba-data-env"
  },
  "language_info": {
   "codemirror_mode": {
    "name": "ipython",
    "version": 3
   },
   "file_extension": ".py",
   "mimetype": "text/x-python",
   "name": "python",
   "nbconvert_exporter": "python",
   "pygments_lexer": "ipython3",
   "version": "3.7.6"
  }
 },
 "nbformat": 4,
 "nbformat_minor": 2
}
